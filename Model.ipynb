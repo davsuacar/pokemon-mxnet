{
 "cells": [
  {
   "cell_type": "markdown",
   "metadata": {},
   "source": [
    "# MXNET - MLP MODEL"
   ]
  },
  {
   "cell_type": "code",
   "execution_count": 1,
   "metadata": {
    "collapsed": false
   },
   "outputs": [],
   "source": [
    "import pandas as pd\n",
    "import mxnet as mx\n",
    "import numpy as np\n",
    "import logging\n",
    "\n",
    "pd.set_option('display.max_columns', 500)\n",
    "\n",
    "from sklearn import preprocessing\n",
    "from sklearn.utils import shuffle"
   ]
  },
  {
   "cell_type": "markdown",
   "metadata": {},
   "source": [
    "## Parameters"
   ]
  },
  {
   "cell_type": "code",
   "execution_count": 2,
   "metadata": {
    "collapsed": true
   },
   "outputs": [],
   "source": [
    "LIMIT = 200\n",
    "BATCH_SIZE = 2000\n",
    "BATCH_SIZE_TEST = 200\n",
    "NUM_CLASSES = 2\n",
    "LEARNING_RATE = 0.01\n",
    "NUM_EPOCHS = 1000\n",
    "DROPOUT=0.0"
   ]
  },
  {
   "cell_type": "markdown",
   "metadata": {},
   "source": [
    "## Load Data"
   ]
  },
  {
   "cell_type": "code",
   "execution_count": 3,
   "metadata": {
    "collapsed": false
   },
   "outputs": [],
   "source": [
    "df = pd.read_csv('./data/data_processed.csv')"
   ]
  },
  {
   "cell_type": "code",
   "execution_count": 4,
   "metadata": {
    "collapsed": true
   },
   "outputs": [],
   "source": [
    "df = shuffle(df, random_state=0)"
   ]
  },
  {
   "cell_type": "code",
   "execution_count": 5,
   "metadata": {
    "collapsed": true
   },
   "outputs": [],
   "source": [
    "test_to_csv = pd.read_csv('./data/data_test_processed.csv')\n",
    "final_to_append = pd.read_csv('./data/tests.csv', names=['player1', 'player2'])"
   ]
  },
  {
   "cell_type": "code",
   "execution_count": 6,
   "metadata": {
    "collapsed": false
   },
   "outputs": [
    {
     "data": {
      "text/html": [
       "<div>\n",
       "<style>\n",
       "    .dataframe thead tr:only-child th {\n",
       "        text-align: right;\n",
       "    }\n",
       "\n",
       "    .dataframe thead th {\n",
       "        text-align: left;\n",
       "    }\n",
       "\n",
       "    .dataframe tbody tr th {\n",
       "        vertical-align: top;\n",
       "    }\n",
       "</style>\n",
       "<table border=\"1\" class=\"dataframe\">\n",
       "  <thead>\n",
       "    <tr style=\"text-align: right;\">\n",
       "      <th></th>\n",
       "      <th>Name_x</th>\n",
       "      <th>Type 1_x</th>\n",
       "      <th>Type 2_x</th>\n",
       "      <th>HP_x</th>\n",
       "      <th>Attack_x</th>\n",
       "      <th>Defense_x</th>\n",
       "      <th>Sp. Atk_x</th>\n",
       "      <th>Sp. Def_x</th>\n",
       "      <th>Speed_x</th>\n",
       "      <th>Generation_x</th>\n",
       "      <th>Legendary_x</th>\n",
       "      <th>Name_y</th>\n",
       "      <th>Type 1_y</th>\n",
       "      <th>Type 2_y</th>\n",
       "      <th>HP_y</th>\n",
       "      <th>Attack_y</th>\n",
       "      <th>Defense_y</th>\n",
       "      <th>Sp. Atk_y</th>\n",
       "      <th>Sp. Def_y</th>\n",
       "      <th>Speed_y</th>\n",
       "      <th>Generation_y</th>\n",
       "      <th>Legendary_y</th>\n",
       "    </tr>\n",
       "  </thead>\n",
       "  <tbody>\n",
       "    <tr>\n",
       "      <th>0</th>\n",
       "      <td>0.757196</td>\n",
       "      <td>1.0</td>\n",
       "      <td>0.944444</td>\n",
       "      <td>0.311024</td>\n",
       "      <td>0.47027</td>\n",
       "      <td>0.266667</td>\n",
       "      <td>0.298913</td>\n",
       "      <td>0.285714</td>\n",
       "      <td>0.36</td>\n",
       "      <td>0.0</td>\n",
       "      <td>0.0</td>\n",
       "      <td>0.445557</td>\n",
       "      <td>0.705882</td>\n",
       "      <td>0.944444</td>\n",
       "      <td>0.350394</td>\n",
       "      <td>0.27027</td>\n",
       "      <td>0.311111</td>\n",
       "      <td>0.271739</td>\n",
       "      <td>0.261905</td>\n",
       "      <td>0.142857</td>\n",
       "      <td>0.0</td>\n",
       "      <td>0.0</td>\n",
       "    </tr>\n",
       "  </tbody>\n",
       "</table>\n",
       "</div>"
      ],
      "text/plain": [
       "     Name_x  Type 1_x  Type 2_x      HP_x  Attack_x  Defense_x  Sp. Atk_x  \\\n",
       "0  0.757196       1.0  0.944444  0.311024   0.47027   0.266667   0.298913   \n",
       "\n",
       "   Sp. Def_x  Speed_x  Generation_x  Legendary_x    Name_y  Type 1_y  \\\n",
       "0   0.285714     0.36           0.0          0.0  0.445557  0.705882   \n",
       "\n",
       "   Type 2_y      HP_y  Attack_y  Defense_y  Sp. Atk_y  Sp. Def_y   Speed_y  \\\n",
       "0  0.944444  0.350394   0.27027   0.311111   0.271739   0.261905  0.142857   \n",
       "\n",
       "   Generation_y  Legendary_y  \n",
       "0           0.0          0.0  "
      ]
     },
     "execution_count": 6,
     "metadata": {},
     "output_type": "execute_result"
    }
   ],
   "source": [
    "test_to_csv[:1]"
   ]
  },
  {
   "cell_type": "markdown",
   "metadata": {},
   "source": [
    "### Split Data & Label"
   ]
  },
  {
   "cell_type": "code",
   "execution_count": 7,
   "metadata": {
    "collapsed": false
   },
   "outputs": [],
   "source": [
    "df_label = df['label']\n",
    "df_data = df.drop(['label'], axis=1)"
   ]
  },
  {
   "cell_type": "markdown",
   "metadata": {},
   "source": [
    "### Split Train & Test"
   ]
  },
  {
   "cell_type": "code",
   "execution_count": 8,
   "metadata": {
    "collapsed": false
   },
   "outputs": [
    {
     "name": "stdout",
     "output_type": "stream",
     "text": [
      "Test size: 200\n"
     ]
    }
   ],
   "source": [
    "df_test_data = df_data[:LIMIT]\n",
    "df_test_label = df_label[:LIMIT]\n",
    "print \"Test size: \" + str(df_test_data.shape[0])"
   ]
  },
  {
   "cell_type": "code",
   "execution_count": 9,
   "metadata": {
    "collapsed": false
   },
   "outputs": [
    {
     "name": "stdout",
     "output_type": "stream",
     "text": [
      "Train size: 49800\n"
     ]
    }
   ],
   "source": [
    "df_train_data = df_data[LIMIT:]\n",
    "df_train_label = df_label[LIMIT:]\n",
    "print \"Train size: \" + str(df_train_data.shape[0])"
   ]
  },
  {
   "cell_type": "markdown",
   "metadata": {},
   "source": [
    "### Initialize data iterators"
   ]
  },
  {
   "cell_type": "code",
   "execution_count": 10,
   "metadata": {
    "collapsed": false
   },
   "outputs": [],
   "source": [
    "train_iter = mx.io.NDArrayIter(np.array(df_train_data), np.array(df_train_label), BATCH_SIZE, shuffle=True)\n",
    "val_iter = mx.io.NDArrayIter(np.array(df_test_data), np.array(df_test_label), BATCH_SIZE_TEST)"
   ]
  },
  {
   "cell_type": "markdown",
   "metadata": {},
   "source": [
    "### Variables"
   ]
  },
  {
   "cell_type": "code",
   "execution_count": 11,
   "metadata": {
    "collapsed": false
   },
   "outputs": [],
   "source": [
    "data = mx.sym.var('data')\n",
    "# data = mx.sym.Dropout(data=data, p=DROPOUT)"
   ]
  },
  {
   "cell_type": "markdown",
   "metadata": {},
   "source": [
    "### Network"
   ]
  },
  {
   "cell_type": "code",
   "execution_count": 12,
   "metadata": {
    "collapsed": true
   },
   "outputs": [],
   "source": [
    "# The first fully-connected layer and the corresponding activation function\n",
    "fc1  = mx.sym.FullyConnected(data=data, num_hidden=128)\n",
    "act1 = mx.sym.Activation(data=fc1, act_type=\"relu\")\n",
    "\n",
    "# The second fully-connected layer and the corresponding activation function\n",
    "fc2  = mx.sym.FullyConnected(data=act1, num_hidden = 64)\n",
    "act2 = mx.sym.Activation(data=fc2, act_type=\"relu\")\n",
    "\n",
    "# POKEMON has 2 classes\n",
    "fc3  = mx.sym.FullyConnected(data=act2, num_hidden=NUM_CLASSES)\n",
    "# Softmax with cross entropy loss\n",
    "mlp  = mx.sym.SoftmaxOutput(data=fc3, name='softmax')"
   ]
  },
  {
   "cell_type": "markdown",
   "metadata": {},
   "source": [
    "### Train"
   ]
  },
  {
   "cell_type": "code",
   "execution_count": 13,
   "metadata": {
    "collapsed": false
   },
   "outputs": [],
   "source": [
    "#logging.getLogger().setLevel(logging.DEBUG)\n",
    "\n",
    "mlp_model = mx.mod.Module(symbol=mlp, context=mx.cpu())\n",
    "mlp_model.fit(train_iter,  # train data\n",
    "              eval_data=val_iter,  # validation data\n",
    "              optimizer='Adam',  # use Adam to train\n",
    "              optimizer_params={'learning_rate': LEARNING_RATE},  # use fixed learning rate\n",
    "              eval_metric='acc',  # report accuracy during training\n",
    "              #batch_end_callback = mx.callback.Speedometer(BATCH_SIZE, 400), # output progress for each 100 data batches\n",
    "              num_epoch=NUM_EPOCHS)  # train for at most 10 dataset passes"
   ]
  },
  {
   "cell_type": "markdown",
   "metadata": {},
   "source": [
    "### Prediction"
   ]
  },
  {
   "cell_type": "code",
   "execution_count": 14,
   "metadata": {
    "collapsed": false
   },
   "outputs": [
    {
     "data": {
      "text/plain": [
       "[('accuracy', 0.93)]"
      ]
     },
     "execution_count": 14,
     "metadata": {},
     "output_type": "execute_result"
    }
   ],
   "source": [
    "test_iter = mx.io.NDArrayIter(np.array(df_test_data), np.array(df_test_label), BATCH_SIZE_TEST)\n",
    "# predict accuracy of mlp\n",
    "acc = mx.metric.Accuracy()\n",
    "mlp_model.score(test_iter, acc)"
   ]
  },
  {
   "cell_type": "code",
   "execution_count": 15,
   "metadata": {
    "collapsed": false
   },
   "outputs": [
    {
     "data": {
      "text/plain": [
       "[('accuracy', 0.9678)]"
      ]
     },
     "execution_count": 15,
     "metadata": {},
     "output_type": "execute_result"
    }
   ],
   "source": [
    "# TRAIN ACCURACY\n",
    "# predict accuracy of mlp\n",
    "acc = mx.metric.Accuracy()\n",
    "mlp_model.score(train_iter, acc)"
   ]
  },
  {
   "cell_type": "markdown",
   "metadata": {
    "collapsed": true
   },
   "source": [
    "## Predict To CSV"
   ]
  },
  {
   "cell_type": "code",
   "execution_count": 16,
   "metadata": {
    "collapsed": false
   },
   "outputs": [],
   "source": [
    "test_to_csv_iter = mx.io.NDArrayIter(np.array(test_to_csv), None, BATCH_SIZE)\n",
    "\n",
    "prediction = mlp_model.predict(test_to_csv_iter)\n",
    "prediction = np.argmax(prediction.asnumpy(), axis=1)"
   ]
  },
  {
   "cell_type": "code",
   "execution_count": 17,
   "metadata": {
    "collapsed": false
   },
   "outputs": [],
   "source": [
    "df_predictions = pd.DataFrame(prediction)\n",
    "final_to_append['winner'] = df_predictions"
   ]
  },
  {
   "cell_type": "code",
   "execution_count": 18,
   "metadata": {
    "collapsed": false
   },
   "outputs": [],
   "source": [
    "final_to_append['winner'] = np.where(final_to_append['winner'] == 0, final_to_append['player1'], final_to_append['player2'])"
   ]
  },
  {
   "cell_type": "code",
   "execution_count": 20,
   "metadata": {
    "collapsed": false
   },
   "outputs": [],
   "source": [
    "final_to_append.to_csv('./data/final_result.csv', index=False, header=False)"
   ]
  },
  {
   "cell_type": "code",
   "execution_count": null,
   "metadata": {
    "collapsed": true
   },
   "outputs": [],
   "source": []
  }
 ],
 "metadata": {
  "kernelspec": {
   "display_name": "Python 2",
   "language": "python",
   "name": "python2"
  },
  "language_info": {
   "codemirror_mode": {
    "name": "ipython",
    "version": 2
   },
   "file_extension": ".py",
   "mimetype": "text/x-python",
   "name": "python",
   "nbconvert_exporter": "python",
   "pygments_lexer": "ipython2",
   "version": "2.7.6"
  }
 },
 "nbformat": 4,
 "nbformat_minor": 1
}
