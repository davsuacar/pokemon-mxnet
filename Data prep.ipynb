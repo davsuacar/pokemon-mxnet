{
 "cells": [
  {
   "cell_type": "markdown",
   "metadata": {},
   "source": [
    "# Data Preprocess"
   ]
  },
  {
   "cell_type": "code",
   "execution_count": 1,
   "metadata": {
    "collapsed": false
   },
   "outputs": [],
   "source": [
    "import pandas as pd\n",
    "import numpy as np\n",
    "\n",
    "pd.set_option('display.max_columns', 500)\n",
    "\n",
    "from sklearn import preprocessing"
   ]
  },
  {
   "cell_type": "markdown",
   "metadata": {},
   "source": [
    "### Load Data"
   ]
  },
  {
   "cell_type": "code",
   "execution_count": 2,
   "metadata": {
    "collapsed": false
   },
   "outputs": [],
   "source": [
    "pokemon = pd.read_csv(\"./data/pokemon.csv\")\n",
    "combats = pd.read_csv(\"./data/combats.csv\", names=['player1', 'player2', 'winner'])\n",
    "tests = pd.read_csv(\"./data/tests.csv\")"
   ]
  },
  {
   "cell_type": "markdown",
   "metadata": {},
   "source": [
    "### Join Data"
   ]
  },
  {
   "cell_type": "code",
   "execution_count": 3,
   "metadata": {
    "collapsed": false
   },
   "outputs": [],
   "source": [
    "def join1(pokemon, combats):\n",
    "    return pd.merge(combats, pokemon, how='right', left_on=['player1'], right_on=['#'])"
   ]
  },
  {
   "cell_type": "code",
   "execution_count": 4,
   "metadata": {
    "collapsed": true
   },
   "outputs": [],
   "source": [
    "def join2(pokemon, combats):\n",
    "    return pd.merge(combats, pokemon, how='right', left_on=['player2'], right_on=['#'])"
   ]
  },
  {
   "cell_type": "markdown",
   "metadata": {},
   "source": [
    "###### Join First Column"
   ]
  },
  {
   "cell_type": "code",
   "execution_count": 5,
   "metadata": {
    "collapsed": false
   },
   "outputs": [],
   "source": [
    "joined = join1(pokemon, combats)"
   ]
  },
  {
   "cell_type": "markdown",
   "metadata": {},
   "source": [
    "##### Rename Columns"
   ]
  },
  {
   "cell_type": "code",
   "execution_count": 6,
   "metadata": {
    "collapsed": true
   },
   "outputs": [],
   "source": [
    "joined.columns = ['player1', u'player2', u'winner', u'#', u'Name_p1', u'Type_1_p1', u'Type_2_p1',\n",
    "       u'HP_p1', u'Attack_p1', u'Defense_p1', u'SpAtk_p1', u'SpDef_p1', u'Speed_p1',\n",
    "       u'Generation_p1', u'Legendary_p1']"
   ]
  },
  {
   "cell_type": "markdown",
   "metadata": {},
   "source": [
    "###### Join Second Column"
   ]
  },
  {
   "cell_type": "code",
   "execution_count": 7,
   "metadata": {
    "collapsed": false
   },
   "outputs": [],
   "source": [
    "joined_final = join2(pokemon, joined)"
   ]
  },
  {
   "cell_type": "markdown",
   "metadata": {},
   "source": [
    "###### Rename Columns"
   ]
  },
  {
   "cell_type": "code",
   "execution_count": 8,
   "metadata": {
    "collapsed": true
   },
   "outputs": [],
   "source": [
    "joined_final.columns = [     u'player1',      u'player2',       u'winner',          u'#_x',\n",
    "            u'Name_p1',    u'Type_1_p1',    u'Type_2_p1',        u'HP_p1',\n",
    "          u'Attack_p1',   u'Defense_p1',      u'SpAtk_p1',      u'SpDef_p1',\n",
    "            u'Speed_p1', u'Generation_p1',  u'Legendary_p1',          u'#_y',\n",
    "               u'Name_p2',       u'Type_1_p2',       u'Type_2_p2',           u'HP_p2',\n",
    "             u'Attack_p2',      u'Defense_p2',      u'SpAtk_p2',      u'SpDef_p2',\n",
    "              u'Speed_p2',   u'Generation_p2',    u'Legendary_p2']"
   ]
  },
  {
   "cell_type": "markdown",
   "metadata": {},
   "source": [
    "#### Rename Winner column to Boolean"
   ]
  },
  {
   "cell_type": "code",
   "execution_count": 9,
   "metadata": {
    "collapsed": false
   },
   "outputs": [],
   "source": [
    "joined_final['label'] = np.where(joined_final['player1'] == joined_final['winner'], 0, 1)"
   ]
  },
  {
   "cell_type": "markdown",
   "metadata": {},
   "source": [
    "##### Remove unused columns"
   ]
  },
  {
   "cell_type": "code",
   "execution_count": 10,
   "metadata": {
    "collapsed": false
   },
   "outputs": [],
   "source": [
    "joined_final = joined_final.drop(['player1', 'player2', 'winner', '#_x', '#_y'], 1)"
   ]
  },
  {
   "cell_type": "markdown",
   "metadata": {},
   "source": [
    "##### Delete unused rows"
   ]
  },
  {
   "cell_type": "code",
   "execution_count": 11,
   "metadata": {
    "collapsed": false
   },
   "outputs": [],
   "source": [
    "joined_final = joined_final[:50000]"
   ]
  },
  {
   "cell_type": "markdown",
   "metadata": {},
   "source": [
    "## Fill empty values"
   ]
  },
  {
   "cell_type": "code",
   "execution_count": 12,
   "metadata": {
    "collapsed": true
   },
   "outputs": [],
   "source": [
    "joined_final['Name_p1'] = joined_final['Name_p1'].fillna('Unknown')\n",
    "joined_final['Type_1_p1'] = joined_final['Type_1_p1'].fillna('Unknown')\n",
    "joined_final['Type_2_p1'] = joined_final['Type_2_p1'].fillna('Unknown')\n",
    "joined_final['Legendary_p1'] = joined_final['Legendary_p1'].fillna('Unknown')\n",
    "joined_final['Name_p2'] = joined_final['Name_p2'].fillna('Unknown')\n",
    "joined_final['Type_1_p2'] = joined_final['Type_1_p2'].fillna('Unknown')\n",
    "joined_final['Type_2_p2'] = joined_final['Type_2_p2'].fillna('Unknown')\n",
    "joined_final['Legendary_p2'] = joined_final['Legendary_p2'].fillna('Unknown')"
   ]
  },
  {
   "cell_type": "markdown",
   "metadata": {},
   "source": [
    "### Categorize"
   ]
  },
  {
   "cell_type": "code",
   "execution_count": 13,
   "metadata": {
    "collapsed": false
   },
   "outputs": [],
   "source": [
    "columns_to_categorize = ['Type_1_p1', 'Type_2_p1', 'Name_p1', 'Legendary_p1', 'Name_p2', 'Type_1_p2',\n",
    "                         'Type_2_p2', 'Legendary_p2']"
   ]
  },
  {
   "cell_type": "code",
   "execution_count": 14,
   "metadata": {
    "collapsed": false
   },
   "outputs": [],
   "source": [
    "for column in columns_to_categorize:\n",
    "    categorizer = preprocessing.LabelEncoder()\n",
    "    joined_final[column] = categorizer.fit(joined_final[column]).transform(joined_final[column])"
   ]
  },
  {
   "cell_type": "markdown",
   "metadata": {},
   "source": [
    "### Normalize"
   ]
  },
  {
   "cell_type": "code",
   "execution_count": 15,
   "metadata": {
    "collapsed": false
   },
   "outputs": [],
   "source": [
    "df_processed = preprocessing.MinMaxScaler().fit_transform(joined_final)\n",
    "df_processed = pd.DataFrame(df_processed, columns=joined_final.columns)"
   ]
  },
  {
   "cell_type": "markdown",
   "metadata": {},
   "source": [
    "### Extract to CSV"
   ]
  },
  {
   "cell_type": "code",
   "execution_count": 16,
   "metadata": {
    "collapsed": false
   },
   "outputs": [],
   "source": [
    "joined_final.to_csv('./data/data_processed.csv', header=True, index=False)"
   ]
  }
 ],
 "metadata": {
  "kernelspec": {
   "display_name": "Python 2",
   "language": "python",
   "name": "python2"
  },
  "language_info": {
   "codemirror_mode": {
    "name": "ipython",
    "version": 2
   },
   "file_extension": ".py",
   "mimetype": "text/x-python",
   "name": "python",
   "nbconvert_exporter": "python",
   "pygments_lexer": "ipython2",
   "version": "2.7.6"
  }
 },
 "nbformat": 4,
 "nbformat_minor": 1
}
